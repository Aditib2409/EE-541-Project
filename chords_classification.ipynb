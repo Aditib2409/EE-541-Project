{
  "nbformat": 4,
  "nbformat_minor": 0,
  "metadata": {
    "colab": {
      "name": "chords_classification.ipynb",
      "provenance": [],
      "collapsed_sections": [],
      "include_colab_link": true
    },
    "kernelspec": {
      "name": "python3",
      "display_name": "Python 3"
    },
    "language_info": {
      "name": "python"
    }
  },
  "cells": [
    {
      "cell_type": "markdown",
      "metadata": {
        "id": "view-in-github",
        "colab_type": "text"
      },
      "source": [
        "<a href=\"https://colab.research.google.com/github/Aditib2409/EE-541-Project/blob/main/chords_classification.ipynb\" target=\"_parent\"><img src=\"https://colab.research.google.com/assets/colab-badge.svg\" alt=\"Open In Colab\"/></a>"
      ]
    },
    {
      "cell_type": "code",
      "execution_count": null,
      "metadata": {
        "id": "Kaw6dWE7xi-H"
      },
      "outputs": [],
      "source": [
        "import numpy as np\n",
        "import pandas as pd\n",
        "import os\n",
        "import matplotlib.pyplot as plt\n",
        "import seaborn as sns\n",
        "from scipy.io import wavfile\n",
        "from scipy.fft import fft, fftfreq\n",
        "from scipy.signal import spectrogram, find_peaks\n",
        "from sklearn.model_selection import train_test_split"
      ]
    },
    {
      "cell_type": "code",
      "source": [
        "from google.colab import drive\n",
        "drive.mount('/content/drive')"
      ],
      "metadata": {
        "id": "QNBo_ufhxtaH",
        "colab": {
          "base_uri": "https://localhost:8080/"
        },
        "outputId": "e8a9b051-2e7d-4ab8-f982-6c8d513ad6f5"
      },
      "execution_count": null,
      "outputs": [
        {
          "output_type": "stream",
          "name": "stdout",
          "text": [
            "Mounted at /content/drive\n"
          ]
        }
      ]
    },
    {
      "cell_type": "code",
      "source": [
        "!unzip \"/content/drive/Shareddrives/EE541Project/archive.zip\""
      ],
      "metadata": {
        "id": "5SF5E1YZzTnX"
      },
      "execution_count": null,
      "outputs": []
    },
    {
      "cell_type": "code",
      "source": [
        ""
      ],
      "metadata": {
        "id": "TvounfUr10gl"
      },
      "execution_count": null,
      "outputs": []
    },
    {
      "cell_type": "markdown",
      "source": [
        "### Loading Dataset"
      ],
      "metadata": {
        "id": "AACUnyw-13HZ"
      }
    },
    {
      "cell_type": "code",
      "source": [
        "class loading_dataset:\n",
        "    def __init__(self, path):\n",
        "        self.path = path\n",
        "\n",
        "    def harmonics(self, file_path, print=False):\n",
        "        freq, X = wavfile.read(file_path)\n",
        "        n = len(X)\n",
        "        X_fourier = fft(X)\n",
        "        X_fourier_onesided = 2.0/n * np.abs(X_fourier[0:n // 2])\n",
        "        frequencies = fftfreq(n, 1/freq)[:n//2]\n",
        "        freqs_50_index = np.argmin(np.abs(frequencies - 50))\n",
        "        \n",
        "        ht = np.max(X_fourier_onesided)*5/100\n",
        "        peaks_found, _ = find_peaks(X_fourier_onesided, distance=10, height=ht)\n",
        "        peaks_found = peaks_found[peaks_found>freqs_50_index]\n",
        "        harmonics_found = np.round(frequencies[peaks_found],2)\n",
        "        \n",
        "        if print:\n",
        "            p = np.max(peaks_found) + 100\n",
        "            plt.plot(frequencies[:p], X_fourier_onesided[:p])\n",
        "            plt.plot(frequencies[peaks_found], X_fourier_onesided[peaks_found], 'o')\n",
        "            plt.xlabel(f'Frequency in Hz')\n",
        "            plt.ylabel(f'Harmonics')\n",
        "            plt.show()\n",
        "        \n",
        "        return harmonics_found\n",
        "\n",
        "    \n",
        "    def create_dataframe(self):\n",
        "        # to track the length of a harmonic\n",
        "        length_harmonic = 0\n",
        "        dataset = []\n",
        "\n",
        "        for dir_name, _, file_name in os.walk(self.path):\n",
        "            for filename in file_name:\n",
        "                folder_name = os.path.basename(dir_name)\n",
        "                full_filepath = os.path.join(dir_name, filename)\n",
        "                harmonic_peaks = self.harmonics(full_filepath)\n",
        "                min_harmonics = harmonic_peaks.min()\n",
        "                max_harmonics = harmonic_peaks.max()\n",
        "                num_peaks = len(harmonic_peaks)\n",
        "                length_harmonic = max(num_peaks, length_harmonic)\n",
        "                current_data = [folder_name, filename, min_harmonics, max_harmonics, num_peaks] \n",
        "                current_data.extend(harmonic_peaks)\n",
        "\n",
        "                dataset.append(current_data)\n",
        "\n",
        "        feature_cols = [\"Chord_type\", \"File_name\", \"Minimum_harmonic\", \"Maximum harmonic\", \"Num_harmonics\"]\n",
        "        for i in range(length_harmonic):\n",
        "            feature_cols.append(f'Harmonic {i+1}')\n",
        "\n",
        "        data_df = pd.DataFrame(dataset, columns=feature_cols)\n",
        "\n",
        "        return data_df"
      ],
      "metadata": {
        "id": "RgG8lhpI39Uy"
      },
      "execution_count": null,
      "outputs": []
    },
    {
      "cell_type": "code",
      "source": [
        "path = \"/content/Audio_Files\"\n",
        "dataloader = loading_dataset(path)\n",
        "data = dataloader.create_dataframe()\n",
        "data_og = data"
      ],
      "metadata": {
        "id": "FZrYBXbfAD2q"
      },
      "execution_count": null,
      "outputs": []
    },
    {
      "cell_type": "code",
      "source": [
        "def plot_kde(I, df):\n",
        "    rows = len(I)\n",
        "    fig, axes = plt.subplots(nrows=rows, ncols=1, figsize=(8, 15), sharex=True)\n",
        "    colors = ['red', 'green']\n",
        "    for i in range(rows):\n",
        "        sns.kdeplot(ax=axes[i], data=df, x=I[i], hue=\"Chord_type\", shade=True, palette=\"Set2\")\n",
        "        axes[i].set_title(f'{I[i]} density plot')\n",
        "    plt.show()"
      ],
      "metadata": {
        "id": "vvrOAKkqJmo4"
      },
      "execution_count": null,
      "outputs": []
    },
    {
      "cell_type": "markdown",
      "source": [
        "### Creating intervals"
      ],
      "metadata": {
        "id": "BqlzlQLkIvl2"
      }
    },
    {
      "cell_type": "code",
      "source": [
        "intervals = [\"octave\", \"quinta\", \"quarta\", \"major inertia\", \"minor inertia\"]\n",
        "for i in range(len(intervals)):\n",
        "    data[intervals[i]] = np.divide(data[f'Harmonic {i+2}'], data[f'Harmonic {i+1}'])"
      ],
      "metadata": {
        "id": "49Gj0VmJAYkA"
      },
      "execution_count": null,
      "outputs": []
    },
    {
      "cell_type": "code",
      "source": [
        "plot_kde(intervals, data)"
      ],
      "metadata": {
        "colab": {
          "base_uri": "https://localhost:8080/",
          "height": 893
        },
        "id": "I-AFTlscKllY",
        "outputId": "0f24a376-f8fe-4348-be49-fcf9811e6e6d"
      },
      "execution_count": null,
      "outputs": [
        {
          "output_type": "display_data",
          "data": {
            "text/plain": [
              "<Figure size 576x1080 with 5 Axes>"
            ],
            "image/png": "[encoded data removed]"
          },
          "metadata": {
            "needs_background": "light"
          }
        }
      ]
    },
    {
      "cell_type": "code",
      "source": [
        "# get the corresponding intervals\n",
        "\n",
        "data[\"Chord_type\"] = data[\"Chord_type\"].replace(\"Major\", 0)\n",
        "data[\"Chord_type\"] = data[\"Chord_type\"].replace(\"Minor\", 1)"
      ],
      "metadata": {
        "id": "p5ETqCUmOQ2u"
      },
      "execution_count": null,
      "outputs": []
    },
    {
      "cell_type": "code",
      "source": [
        "train_x, val_x, train_y, val_y = train_test_split(data[intervals], data['Chord_type'], test_size=0.30, random_state=42)"
      ],
      "metadata": {
        "id": "Fmk0z-NwPSjV"
      },
      "execution_count": null,
      "outputs": []
    },
    {
      "cell_type": "code",
      "source": [
        "train_x.head(5)"
      ],
      "metadata": {
        "colab": {
          "base_uri": "https://localhost:8080/",
          "height": 206
        },
        "id": "ZjjTj1DCQYeU",
        "outputId": "412fb5c2-ba5f-4adb-d277-09f9bc503789"
      },
      "execution_count": null,
      "outputs": [
        {
          "output_type": "execute_result",
          "data": {
            "text/plain": [
              "       octave    quinta    quarta  major inertia  minor inertia\n",
              "28   1.260585  1.418249  1.118641       1.124263       1.122627\n",
              "457  1.486470  1.345401  1.121624       1.116478       1.187042\n",
              "193  1.505886  1.188346  1.119275       1.258415       1.194885\n",
              "367  1.337857  1.257646  1.188671       1.122449       1.192932\n",
              "467  1.874398  1.061484  1.260501       1.158696       1.023414"
            ],
            "text/html": [
              "\n",
              "  <div id=\"df-6c38640f-0bea-4f54-9251-2e185cd7ad80\">\n",
              "    <div class=\"colab-df-container\">\n",
              "      <div>\n",
              "<style scoped>\n",
              "    .dataframe tbody tr th:only-of-type {\n",
              "        vertical-align: middle;\n",
              "    }\n",
              "\n",
              "    .dataframe tbody tr th {\n",
              "        vertical-align: top;\n",
              "    }\n",
              "\n",
              "    .dataframe thead th {\n",
              "        text-align: right;\n",
              "    }\n",
              "</style>\n",
              "<table border=\"1\" class=\"dataframe\">\n",
              "  <thead>\n",
              "    <tr style=\"text-align: right;\">\n",
              "      <th></th>\n",
              "      <th>octave</th>\n",
              "      <th>quinta</th>\n",
              "      <th>quarta</th>\n",
              "      <th>major inertia</th>\n",
              "      <th>minor inertia</th>\n",
              "    </tr>\n",
              "  </thead>\n",
              "  <tbody>\n",
              "    <tr>\n",
              "      <th>28</th>\n",
              "      <td>1.260585</td>\n",
              "      <td>1.418249</td>\n",
              "      <td>1.118641</td>\n",
              "      <td>1.124263</td>\n",
              "      <td>1.122627</td>\n",
              "    </tr>\n",
              "    <tr>\n",
              "      <th>457</th>\n",
              "      <td>1.486470</td>\n",
              "      <td>1.345401</td>\n",
              "      <td>1.121624</td>\n",
              "      <td>1.116478</td>\n",
              "      <td>1.187042</td>\n",
              "    </tr>\n",
              "    <tr>\n",
              "      <th>193</th>\n",
              "      <td>1.505886</td>\n",
              "      <td>1.188346</td>\n",
              "      <td>1.119275</td>\n",
              "      <td>1.258415</td>\n",
              "      <td>1.194885</td>\n",
              "    </tr>\n",
              "    <tr>\n",
              "      <th>367</th>\n",
              "      <td>1.337857</td>\n",
              "      <td>1.257646</td>\n",
              "      <td>1.188671</td>\n",
              "      <td>1.122449</td>\n",
              "      <td>1.192932</td>\n",
              "    </tr>\n",
              "    <tr>\n",
              "      <th>467</th>\n",
              "      <td>1.874398</td>\n",
              "      <td>1.061484</td>\n",
              "      <td>1.260501</td>\n",
              "      <td>1.158696</td>\n",
              "      <td>1.023414</td>\n",
              "    </tr>\n",
              "  </tbody>\n",
              "</table>\n",
              "</div>\n",
              "      <button class=\"colab-df-convert\" onclick=\"convertToInteractive('df-6c38640f-0bea-4f54-9251-2e185cd7ad80')\"\n",
              "              title=\"Convert this dataframe to an interactive table.\"\n",
              "              style=\"display:none;\">\n",
              "        \n",
              "  <svg xmlns=\"http://www.w3.org/2000/svg\" height=\"24px\"viewBox=\"0 0 24 24\"\n",
              "       width=\"24px\">\n",
              "    <path d=\"M0 0h24v24H0V0z\" fill=\"none\"/>\n",
              "    <path d=\"M18.56 5.44l.94 2.06.94-2.06 2.06-.94-2.06-.94-.94-2.06-.94 2.06-2.06.94zm-11 1L8.5 8.5l.94-2.06 2.06-.94-2.06-.94L8.5 2.5l-.94 2.06-2.06.94zm10 10l.94 2.06.94-2.06 2.06-.94-2.06-.94-.94-2.06-.94 2.06-2.06.94z\"/><path d=\"M17.41 7.96l-1.37-1.37c-.4-.4-.92-.59-1.43-.59-.52 0-1.04.2-1.43.59L10.3 9.45l-7.72 7.72c-.78.78-.78 2.05 0 2.83L4 21.41c.39.39.9.59 1.41.59.51 0 1.02-.2 1.41-.59l7.78-7.78 2.81-2.81c.8-.78.8-2.07 0-2.86zM5.41 20L4 18.59l7.72-7.72 1.47 1.35L5.41 20z\"/>\n",
              "  </svg>\n",
              "      </button>\n",
              "      \n",
              "  <style>\n",
              "    .colab-df-container {\n",
              "      display:flex;\n",
              "      flex-wrap:wrap;\n",
              "      gap: 12px;\n",
              "    }\n",
              "\n",
              "    .colab-df-convert {\n",
              "      background-color: #E8F0FE;\n",
              "      border: none;\n",
              "      border-radius: 50%;\n",
              "      cursor: pointer;\n",
              "      display: none;\n",
              "      fill: #1967D2;\n",
              "      height: 32px;\n",
              "      padding: 0 0 0 0;\n",
              "      width: 32px;\n",
              "    }\n",
              "\n",
              "    .colab-df-convert:hover {\n",
              "      background-color: #E2EBFA;\n",
              "      box-shadow: 0px 1px 2px rgba(60, 64, 67, 0.3), 0px 1px 3px 1px rgba(60, 64, 67, 0.15);\n",
              "      fill: #174EA6;\n",
              "    }\n",
              "\n",
              "    [theme=dark] .colab-df-convert {\n",
              "      background-color: #3B4455;\n",
              "      fill: #D2E3FC;\n",
              "    }\n",
              "\n",
              "    [theme=dark] .colab-df-convert:hover {\n",
              "      background-color: #434B5C;\n",
              "      box-shadow: 0px 1px 3px 1px rgba(0, 0, 0, 0.15);\n",
              "      filter: drop-shadow(0px 1px 2px rgba(0, 0, 0, 0.3));\n",
              "      fill: #FFFFFF;\n",
              "    }\n",
              "  </style>\n",
              "\n",
              "      <script>\n",
              "        const buttonEl =\n",
              "          document.querySelector('#df-6c38640f-0bea-4f54-9251-2e185cd7ad80 button.colab-df-convert');\n",
              "        buttonEl.style.display =\n",
              "          google.colab.kernel.accessAllowed ? 'block' : 'none';\n",
              "\n",
              "        async function convertToInteractive(key) {\n",
              "          const element = document.querySelector('#df-6c38640f-0bea-4f54-9251-2e185cd7ad80');\n",
              "          const dataTable =\n",
              "            await google.colab.kernel.invokeFunction('convertToInteractive',\n",
              "                                                     [key], {});\n",
              "          if (!dataTable) return;\n",
              "\n",
              "          const docLinkHtml = 'Like what you see? Visit the ' +\n",
              "            '<a target=\"_blank\" href=https://colab.research.google.com/notebooks/data_table.ipynb>data table notebook</a>'\n",
              "            + ' to learn more about interactive tables.';\n",
              "          element.innerHTML = '';\n",
              "          dataTable['output_type'] = 'display_data';\n",
              "          await google.colab.output.renderOutput(dataTable, element);\n",
              "          const docLink = document.createElement('div');\n",
              "          docLink.innerHTML = docLinkHtml;\n",
              "          element.appendChild(docLink);\n",
              "        }\n",
              "      </script>\n",
              "    </div>\n",
              "  </div>\n",
              "  "
            ]
          },
          "metadata": {},
          "execution_count": 11
        }
      ]
    },
    {
      "cell_type": "code",
      "source": [
        "val_x.head(5)"
      ],
      "metadata": {
        "colab": {
          "base_uri": "https://localhost:8080/",
          "height": 206
        },
        "id": "9fr3dajBQdCd",
        "outputId": "45fa06f5-a9c9-426d-8f5f-fb1242d92478"
      },
      "execution_count": null,
      "outputs": [
        {
          "output_type": "execute_result",
          "data": {
            "text/plain": [
              "       octave    quinta    quarta  major inertia  minor inertia\n",
              "714  1.336118  1.189068  1.258893       1.122128       1.189752\n",
              "605  1.505657  1.258091  1.055791       1.260005       1.195000\n",
              "120  1.888855  1.060662  1.256530       1.193081       1.119080\n",
              "208  1.504632  1.187226  1.119610       1.261579       1.193872\n",
              "380  1.575987  1.122946  1.124251       1.260501       1.190003"
            ],
            "text/html": [
              "\n",
              "  <div id=\"df-c329327a-bdcb-4345-a6f2-f2bc0a18c065\">\n",
              "    <div class=\"colab-df-container\">\n",
              "      <div>\n",
              "<style scoped>\n",
              "    .dataframe tbody tr th:only-of-type {\n",
              "        vertical-align: middle;\n",
              "    }\n",
              "\n",
              "    .dataframe tbody tr th {\n",
              "        vertical-align: top;\n",
              "    }\n",
              "\n",
              "    .dataframe thead th {\n",
              "        text-align: right;\n",
              "    }\n",
              "</style>\n",
              "<table border=\"1\" class=\"dataframe\">\n",
              "  <thead>\n",
              "    <tr style=\"text-align: right;\">\n",
              "      <th></th>\n",
              "      <th>octave</th>\n",
              "      <th>quinta</th>\n",
              "      <th>quarta</th>\n",
              "      <th>major inertia</th>\n",
              "      <th>minor inertia</th>\n",
              "    </tr>\n",
              "  </thead>\n",
              "  <tbody>\n",
              "    <tr>\n",
              "      <th>714</th>\n",
              "      <td>1.336118</td>\n",
              "      <td>1.189068</td>\n",
              "      <td>1.258893</td>\n",
              "      <td>1.122128</td>\n",
              "      <td>1.189752</td>\n",
              "    </tr>\n",
              "    <tr>\n",
              "      <th>605</th>\n",
              "      <td>1.505657</td>\n",
              "      <td>1.258091</td>\n",
              "      <td>1.055791</td>\n",
              "      <td>1.260005</td>\n",
              "      <td>1.195000</td>\n",
              "    </tr>\n",
              "    <tr>\n",
              "      <th>120</th>\n",
              "      <td>1.888855</td>\n",
              "      <td>1.060662</td>\n",
              "      <td>1.256530</td>\n",
              "      <td>1.193081</td>\n",
              "      <td>1.119080</td>\n",
              "    </tr>\n",
              "    <tr>\n",
              "      <th>208</th>\n",
              "      <td>1.504632</td>\n",
              "      <td>1.187226</td>\n",
              "      <td>1.119610</td>\n",
              "      <td>1.261579</td>\n",
              "      <td>1.193872</td>\n",
              "    </tr>\n",
              "    <tr>\n",
              "      <th>380</th>\n",
              "      <td>1.575987</td>\n",
              "      <td>1.122946</td>\n",
              "      <td>1.124251</td>\n",
              "      <td>1.260501</td>\n",
              "      <td>1.190003</td>\n",
              "    </tr>\n",
              "  </tbody>\n",
              "</table>\n",
              "</div>\n",
              "      <button class=\"colab-df-convert\" onclick=\"convertToInteractive('df-c329327a-bdcb-4345-a6f2-f2bc0a18c065')\"\n",
              "              title=\"Convert this dataframe to an interactive table.\"\n",
              "              style=\"display:none;\">\n",
              "        \n",
              "  <svg xmlns=\"http://www.w3.org/2000/svg\" height=\"24px\"viewBox=\"0 0 24 24\"\n",
              "       width=\"24px\">\n",
              "    <path d=\"M0 0h24v24H0V0z\" fill=\"none\"/>\n",
              "    <path d=\"M18.56 5.44l.94 2.06.94-2.06 2.06-.94-2.06-.94-.94-2.06-.94 2.06-2.06.94zm-11 1L8.5 8.5l.94-2.06 2.06-.94-2.06-.94L8.5 2.5l-.94 2.06-2.06.94zm10 10l.94 2.06.94-2.06 2.06-.94-2.06-.94-.94-2.06-.94 2.06-2.06.94z\"/><path d=\"M17.41 7.96l-1.37-1.37c-.4-.4-.92-.59-1.43-.59-.52 0-1.04.2-1.43.59L10.3 9.45l-7.72 7.72c-.78.78-.78 2.05 0 2.83L4 21.41c.39.39.9.59 1.41.59.51 0 1.02-.2 1.41-.59l7.78-7.78 2.81-2.81c.8-.78.8-2.07 0-2.86zM5.41 20L4 18.59l7.72-7.72 1.47 1.35L5.41 20z\"/>\n",
              "  </svg>\n",
              "      </button>\n",
              "      \n",
              "  <style>\n",
              "    .colab-df-container {\n",
              "      display:flex;\n",
              "      flex-wrap:wrap;\n",
              "      gap: 12px;\n",
              "    }\n",
              "\n",
              "    .colab-df-convert {\n",
              "      background-color: #E8F0FE;\n",
              "      border: none;\n",
              "      border-radius: 50%;\n",
              "      cursor: pointer;\n",
              "      display: none;\n",
              "      fill: #1967D2;\n",
              "      height: 32px;\n",
              "      padding: 0 0 0 0;\n",
              "      width: 32px;\n",
              "    }\n",
              "\n",
              "    .colab-df-convert:hover {\n",
              "      background-color: #E2EBFA;\n",
              "      box-shadow: 0px 1px 2px rgba(60, 64, 67, 0.3), 0px 1px 3px 1px rgba(60, 64, 67, 0.15);\n",
              "      fill: #174EA6;\n",
              "    }\n",
              "\n",
              "    [theme=dark] .colab-df-convert {\n",
              "      background-color: #3B4455;\n",
              "      fill: #D2E3FC;\n",
              "    }\n",
              "\n",
              "    [theme=dark] .colab-df-convert:hover {\n",
              "      background-color: #434B5C;\n",
              "      box-shadow: 0px 1px 3px 1px rgba(0, 0, 0, 0.15);\n",
              "      filter: drop-shadow(0px 1px 2px rgba(0, 0, 0, 0.3));\n",
              "      fill: #FFFFFF;\n",
              "    }\n",
              "  </style>\n",
              "\n",
              "      <script>\n",
              "        const buttonEl =\n",
              "          document.querySelector('#df-c329327a-bdcb-4345-a6f2-f2bc0a18c065 button.colab-df-convert');\n",
              "        buttonEl.style.display =\n",
              "          google.colab.kernel.accessAllowed ? 'block' : 'none';\n",
              "\n",
              "        async function convertToInteractive(key) {\n",
              "          const element = document.querySelector('#df-c329327a-bdcb-4345-a6f2-f2bc0a18c065');\n",
              "          const dataTable =\n",
              "            await google.colab.kernel.invokeFunction('convertToInteractive',\n",
              "                                                     [key], {});\n",
              "          if (!dataTable) return;\n",
              "\n",
              "          const docLinkHtml = 'Like what you see? Visit the ' +\n",
              "            '<a target=\"_blank\" href=https://colab.research.google.com/notebooks/data_table.ipynb>data table notebook</a>'\n",
              "            + ' to learn more about interactive tables.';\n",
              "          element.innerHTML = '';\n",
              "          dataTable['output_type'] = 'display_data';\n",
              "          await google.colab.output.renderOutput(dataTable, element);\n",
              "          const docLink = document.createElement('div');\n",
              "          docLink.innerHTML = docLinkHtml;\n",
              "          element.appendChild(docLink);\n",
              "        }\n",
              "      </script>\n",
              "    </div>\n",
              "  </div>\n",
              "  "
            ]
          },
          "metadata": {},
          "execution_count": 12
        }
      ]
    },
    {
      "cell_type": "code",
      "source": [
        ""
      ],
      "metadata": {
        "colab": {
          "base_uri": "https://localhost:8080/"
        },
        "id": "2HVL5SnXQfP9",
        "outputId": "7496aba3-18a3-45bb-bcdb-350b149e8aa1"
      },
      "execution_count": null,
      "outputs": [
        {
          "output_type": "execute_result",
          "data": {
            "text/plain": [
              "(258, 5)"
            ]
          },
          "metadata": {},
          "execution_count": 88
        }
      ]
    },
    {
      "cell_type": "markdown",
      "source": [
        "# Model Implementation\n"
      ],
      "metadata": {
        "id": "5TTtto8HzsuX"
      }
    },
    {
      "cell_type": "code",
      "source": [
        "X_train = train_x\n",
        "Y_train = train_y\n",
        "X_test = val_x\n",
        "Y_test = val_y"
      ],
      "metadata": {
        "id": "IM9u_La6bB2y"
      },
      "execution_count": null,
      "outputs": []
    },
    {
      "cell_type": "code",
      "source": [
        "from sklearn.ensemble import RandomForestRegressor\n",
        "from sklearn.naive_bayes import GaussianNB\n",
        "from sklearn.svm import SVC\n",
        "from sklearn.metrics import confusion_matrix, roc_auc_score\n",
        "\n",
        "# Functions\n",
        "def calcAccuracy(labels, preds):\n",
        "    return np.mean(labels == preds)\n",
        "\n",
        "def plotConfMat(labels, preds):\n",
        "    confmat = confusion_matrix(labels, preds)\n",
        "    p = sns.heatmap(confmat, annot=True, fmt='g')\n",
        "    p.set_xlabel(\"Prediction\", fontsize = 20)\n",
        "    p.set_ylabel(\"Reference\", fontsize = 20)\n",
        "    return p\n",
        "\n",
        "\n",
        "# Random Forest\n",
        "rf = RandomForestRegressor(n_estimators = 1000, random_state = 42)\n",
        "rf.fit(X_train, Y_train)\n",
        "rf_pred = rf.predict(X_test)\n",
        "\n",
        "# Naive Bayes\n",
        "nb = GaussianNB()\n",
        "nb.fit(X_train, Y_train)\n",
        "nb_pred = nb.predict(X_test)\n",
        "\n",
        "# SVM:\n",
        "svc_l = SVC(C=2, kernel='linear')     # Linear kernel\n",
        "svc_p = SVC(C=2, kernel='poly') # polynomial kernel\n",
        "svc_r = SVC(C=2, kernel='rbf')        # radial kernel\n",
        "\n",
        "svc_l.fit(X_train, Y_train)\n",
        "svc_l_pred = svc_l.predict(X_test)\n",
        "\n",
        "svc_p.fit(X_train, Y_train)\n",
        "svc_p_pred = svc_p.predict(X_test)\n",
        "\n",
        "svc_r.fit(X_train, Y_train)\n",
        "svc_r_pred = svc_r.predict(X_test)"
      ],
      "metadata": {
        "id": "KIt-ksJwZ3SA"
      },
      "execution_count": null,
      "outputs": []
    },
    {
      "cell_type": "code",
      "source": [
        "print(\"Naive Bayes:\", calcAccuracy(Y_test, nb_pred))\n",
        "print(\"SVM Linear:\", calcAccuracy(Y_test, svc_l_pred))\n",
        "print(\"SVM Polynomial:\", calcAccuracy(Y_test, svc_p_pred))\n",
        "print(\"SVM Radial:\", calcAccuracy(Y_test, svc_r_pred))"
      ],
      "metadata": {
        "colab": {
          "base_uri": "https://localhost:8080/"
        },
        "id": "aV3AQVLPcAKb",
        "outputId": "bda80478-fc30-4d54-91e4-8a5c14ea8451"
      },
      "execution_count": null,
      "outputs": [
        {
          "output_type": "stream",
          "name": "stdout",
          "text": [
            "Naive Bayes: 0.6434108527131783\n",
            "SVM Linear: 0.5891472868217055\n",
            "SVM Polynomial: 0.7286821705426356\n",
            "SVM Radial: 0.7170542635658915\n"
          ]
        }
      ]
    },
    {
      "cell_type": "code",
      "source": [
        "print(svc_r_pred)"
      ],
      "metadata": {
        "colab": {
          "base_uri": "https://localhost:8080/"
        },
        "id": "7V-BQ0WccMO8",
        "outputId": "88104b9b-e5a4-4ae2-cf37-b1df8d3b4749"
      },
      "execution_count": null,
      "outputs": [
        {
          "output_type": "stream",
          "name": "stdout",
          "text": [
            "[0 1 0 0 0 0 1 0 1 0 1 0 0 0 1 0 0 0 0 0 0 0 0 1 0 0 1 0 1 0 0 1 0 0 0 0 1\n",
            " 0 0 0 0 0 1 0 0 0 0 0 1 0 0 1 0 0 1 0 1 0 0 0 0 0 0 0 0 1 0 0 1 1 0 0 0 1\n",
            " 0 1 0 0 1 0 1 0 0 0 1 1 0 0 1 0 0 1 0 1 0 0 0 0 1 0 0 0 1 0 0 0 1 0 0 1 0\n",
            " 0 0 0 0 0 0 0 1 0 0 0 0 0 0 1 0 1 0 0 0 0 0 1 0 0 0 1 1 1 0 0 0 1 0 0 0 0\n",
            " 1 1 1 0 0 0 0 0 1 0 0 1 0 1 1 1 0 1 0 0 0 0 0 1 1 0 0 0 1 0 1 1 0 0 0 0 1\n",
            " 0 1 0 0 0 0 0 1 1 1 0 0 0 0 1 1 1 0 0 0 1 0 0 0 0 0 0 0 0 0 0 0 0 1 1 0 1\n",
            " 0 0 0 0 0 1 1 1 1 1 0 0 0 0 0 0 1 0 0 0 1 0 0 0 0 0 0 0 0 0 0 0 0 1 0 0]\n"
          ]
        }
      ]
    }
  ]
}